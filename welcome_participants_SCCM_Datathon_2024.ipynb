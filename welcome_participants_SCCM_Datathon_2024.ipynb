{
  "nbformat": 4,
  "nbformat_minor": 0,
  "metadata": {
    "colab": {
      "provenance": []
    },
    "kernelspec": {
      "name": "python3",
      "display_name": "Python 3"
    },
    "language_info": {
      "name": "python"
    }
  },
  "cells": [
    {
      "cell_type": "markdown",
      "source": [
        "# Welcome SCCM Datathon 2024 Participants\n",
        "\n",
        "---\n",
        "\n",
        "\n"
      ],
      "metadata": {
        "id": "uDWYMvLL0YCn"
      }
    },
    {
      "cell_type": "markdown",
      "source": [
        "\n",
        "\n",
        "*13-14 Jul 2024* <br/>\n",
        "***Society of Critical Care Medicine*** <br>\n",
        "*500 Midway Drive, Mount Prospect, IL 60056* <br/>\n",
        "*SCCM HQ* <br/>\n",
        "\n",
        "---"
      ],
      "metadata": {
        "id": "q2SU9hxF0h0B"
      }
    },
    {
      "cell_type": "markdown",
      "source": [
        "## Schedule\n",
        "\n",
        "\n",
        "| **Time** | Sat, 13 July | Time | Sun, 14 July  |\n",
        "|-------|------------------|--- |--|\n",
        "|7:15 a.m. – 8:00 a.m.| ☕ Registration and Continental Breakfast| 7:15 a.m. – 9:30 a.m.| 🛠️ Datathon Team Work |\n",
        "|8:00 a.m. – 8:15 a.m.\t| Welcome |  9:00 a.m. – 9:30 a.m. | 🚩 Checkpoint 4\n",
        "|8:15 a.m. – 8:45 a.m. | Keynote | |\n",
        "| 8:45 a.m. – 9:00 a.m.\t| Roles, communication, and contribution | 9:30 a.m. – 10:30 a.m.| 🛠️ Datathon Team Work |\n",
        "| 9:00 a.m. – 9:15 a.m.\t| Brief Overview of Datasets | 10:30 a.m. – 11:00 a.m. | 🚩 Checkpoint 5\n",
        "| 9:15 a.m. – 12:00 p.m.\t| 🛠️ Datathon Teamwork | | |\n",
        "| 10:45 a.m. – 11:15 a.m.  | 🚩 Checkpoint 1 | | |\n",
        "| 11:15 a.m. – 12:00 p.m. | 🛠️ Datathon Teamwork | | |\n",
        "| 12:00 p.m. – 1:00 p.m.| 🍕 Working lunch |  12:00 p.m. – 12:30 p.m. | 🍕 Lunch |\n",
        "| 1:00 p.m. – 1:30 p.m.\t| 🚩 Checkpoint 2  | 12:30 p.m. – 3:00 p.m. | 🎤 Datathon Team Presentations,  Judging, 👋 Closing session|\n",
        "| 2:00 p.m. – 2:30 p.m.| 🛠️ Datathon Teamwork |  | |\n",
        "| 2:30 p.m. – 3:00 p.m. | 🚩 Checkpoint 3| | |\n",
        "| 3:00 p.m. – 4:00 p.m.| 🛠️ Datathon Teamwork  | |\n",
        "| 4:00 p.m. – 5:00 p.m. | 📝 Team Report | |\n",
        "| 5:00 p.m. – 6:00 p.m. |  Optional: Extra Datathon Teamwork | |\n",
        "\n",
        "\n",
        "Mentors have 5 minutes per table during the checkpoint. Please expect mentors to swing by. Don't feel pressured to keep them for the full 5 minutes. If you don't have any questions for this mentor, please feel free to let them move on.\n",
        "\n",
        "Please feel free to flag down mentors during the Teamwork sessions.\n",
        "\n",
        "**Sat, 13 July**\n",
        "\n",
        "By Checkpoint 1, please be ready to discuss your final question.\n",
        "\n",
        "By Checkpoint 2, please be ready to discuss your variables + analytical plan.\n",
        "\n",
        "By Checkpoint 3, please be ready to discuss your analytical plan. You probably should have your dataset cleaned by this point in time.\n",
        "\n",
        "\n",
        "**Sun, 14 July**\n",
        "\n",
        "By Checkpoint 4, please be ready to discuss your results + presentation.\n",
        "\n",
        "By Checkpoint 5, please be ready to discuss your presentation.\n",
        "\n",
        "\n",
        "\n",
        "---\n",
        "## Teams - July 2024\n",
        "\n",
        "| Team | Data Science | Clinical |\n",
        "| --- | --- | --- |\n",
        " | Team 1 |  Seedeh Somayyeh Mousavi, Ajay Bhawariya, Thanujaa Subramaniam |  Avinash Sharma, Chun-Cheng Chen, Ishita Chen, Karin Reuter-Rice |\n",
        " | Team 2 |  Yugang Jia, Blessing Oladokun, Mannat Jain |  Andrew Smith, Donna Lee Armaignac, Catherine Gao, Vinai Modem |\n",
        " | Team 3 |  Tien Bui, Yanis Chamson, Somin (Mindy) Lee |  J. Perrem Cobb, Sarah Bush, Yogesh Yadav, Enrique Monares Zepeda |\n",
        " | Team 4 |  Cecile Chavane, Hongyan Xu, MD Enamul Hoq, Hitha Sunkara |  Mustafa Ali, Samuel Kolb, Rahul Kashyap |\n",
        " | Team 5 |  Siheng Hao, Jakob Groll, Kevin Smith |  Emmanuel Kyereme-Tuah, Javier Lasa, Robert Maclaren |\n",
        " | Team 6 |  Marianna Leite, Tyler Allen, Jay Ananth |  Brian Le, Aarti Sarwal, YukMing Liu |\n",
        " | Team 7 |  Tanner Zhang, Mayank Garg, Nikita Mullangi |  Kyle Weant, Austin Simmons, Namrata Patil, Andrew Barrows |\n",
        " | Team 8 |  Preethi Kirshnan, Nada Hammouda, Alireza Rafiei |  Jonathon Schwartz, Benjamin Miller, Melissa Thompson Bastin  |\n",
        " | Team 9 |  Jifan Gao, Carles Lugaaju, Mohammad Kashkooli |  Eunie Yook, Maximiliano Tamae Kakazu, Muhammad Edhi, Ghazal Haddad |\n",
        " | Team 10 |  João Matos, Yueran Jia, Roshan Bhawariya, Ahmed ElSamman |  Lokesh Dayal, Victoria Soriano, Shahid Mohammed |\n",
        "\n",
        "---\n",
        "\n",
        "## What to Bring?\n",
        "Your Laptop, if possible. Data will be made available in the cloud. We'll be using Colab Notebooks, and everything can be done in the cloud. If you prefer, you can also use your local machine.\n",
        "\n",
        "## What are we looking for in the participants?\n",
        "There will be 10 teams of approximately 6-8 participans:\n",
        "- at least 3 data science\n",
        "- at least 3 clinical\n",
        "\n",
        "At least one of the data science participants at each table will have had experience at a prior datathon and/or substantial experience with a PhysioNet dataset and this kind of EHR data analysis. <br>\n",
        "\n",
        "Everyone attending is interested in EHR data and data science. This is a unique situation where everyone has a pre-selected interest. All the clinical participants have an interest in data science. All the data science participants have an interest in medicine. <br>\n",
        "\n",
        "At the very least, the **clinical participants** should shape the meaning of the question (especially making sure that the problem is defined in a clinically relevant fashion), lend context to the clinical data, and shape the results. <br>\n",
        "\n",
        "The **data science particpants** should be ready to learn about the datasets, understand how to effectively extract the relevant data, wrangle data, and analyze the results. <br>\n",
        "- _Note:_ Some (but not necessarily all) of the clinical participants might want to stretch their data science aspects. Consider supporting their learning here. <br>\n",
        "\n",
        "Neither side is more important; the interplay of both is critical to effective analysis. We want participants to learn that this is a team science and we really need to engage people with different perspectives and from different areas of expertise to tackle such complex questions.\n",
        "\n"
      ],
      "metadata": {
        "id": "yA-X2W5n0gTp"
      }
    },
    {
      "cell_type": "markdown",
      "source": [],
      "metadata": {
        "id": "lQCdGIWJkDHT"
      }
    },
    {
      "cell_type": "code",
      "source": [],
      "metadata": {
        "id": "ZaNcm6PvWjXc"
      },
      "execution_count": null,
      "outputs": []
    }
  ]
}